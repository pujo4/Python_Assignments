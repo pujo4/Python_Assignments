{
 "cells": [
  {
   "cell_type": "code",
   "execution_count": 1,
   "id": "13b9b613-e5e7-45ba-9f1b-4273dc1bafe8",
   "metadata": {},
   "outputs": [
    {
     "name": "stdout",
     "output_type": "stream",
     "text": [
      "[('Virat Kohli', 24936), ('Jack Kallis', 25534), ('Ricky Ponting', 27483), ('Sachin Tendulkar', 34357)]\n"
     ]
    }
   ],
   "source": [
    "#1\n",
    "info=[('Sachin Tendulkar', 34357), ('Ricky Ponting', 27483), ('Jack Kallis', 25534), ('Virat Kohli', 24936)]\n",
    "info.sort(key=lambda x:x[1])\n",
    "print(info)"
   ]
  },
  {
   "cell_type": "code",
   "execution_count": 2,
   "id": "3d7ef64d-6814-4e5e-a738-e0fcfa9d5853",
   "metadata": {},
   "outputs": [
    {
     "name": "stdout",
     "output_type": "stream",
     "text": [
      "[1, 4, 9, 16, 25, 36, 49, 64, 81, 100]\n"
     ]
    }
   ],
   "source": [
    "#2\n",
    "l=[1, 2, 3, 4, 5, 6, 7, 8, 9, 10]\n",
    "a=list(map(lambda s:s**2,l))\n",
    "print(a)"
   ]
  },
  {
   "cell_type": "code",
   "execution_count": 3,
   "id": "36ef3d1d-9164-442d-8021-0e859ca14ff6",
   "metadata": {},
   "outputs": [
    {
     "name": "stdout",
     "output_type": "stream",
     "text": [
      "['1', '2', '3', '4', '5', '6', '7', '8', '9', '10']\n"
     ]
    }
   ],
   "source": [
    "#3\n",
    "Given_String= [1, 2, 3, 4, 5, 6, 7, 8, 9, 10]\n",
    "string1=map(str,Given_String)\n",
    "print(list(string1))"
   ]
  },
  {
   "cell_type": "code",
   "execution_count": 4,
   "id": "cd0e395b-3243-47c0-bda4-06caec8b4c8d",
   "metadata": {},
   "outputs": [
    {
     "name": "stdout",
     "output_type": "stream",
     "text": [
      "15511210043330985984000000\n"
     ]
    }
   ],
   "source": [
    "#4\n",
    "import functools\n",
    "lis=[1,2,3,4,5,6,7,8,9,10,11,12,13,14,15,16,17,18,19,20,21,22,23,24,25]\n",
    "print(functools.reduce(lambda b, c:b*c, lis))"
   ]
  },
  {
   "cell_type": "code",
   "execution_count": 5,
   "id": "ab3018cf-02bc-4d58-8440-d2ba0e24fe6e",
   "metadata": {},
   "outputs": [
    {
     "name": "stdout",
     "output_type": "stream",
     "text": [
      "[6, 60, 90, 120]\n"
     ]
    }
   ],
   "source": [
    "#5\n",
    "seq=[2, 3, 6, 9, 27, 60, 90, 120, 55, 46]\n",
    "res=filter(lambda t:t%2==0 and t%3==0,seq)\n",
    "print(list(res))"
   ]
  },
  {
   "cell_type": "code",
   "execution_count": 7,
   "id": "3a130fc1-9e1d-4e22-bf8a-2dac03e799fd",
   "metadata": {},
   "outputs": [
    {
     "name": "stdout",
     "output_type": "stream",
     "text": [
      "['php', 'aba', 'radar', 'level']\n"
     ]
    }
   ],
   "source": [
    "#6\n",
    "my_list=['python', 'php', 'aba', 'radar', 'level']\n",
    "result = list(filter(lambda x: (x == \"\".join(reversed(x))), my_list)) \n",
    "print(result)"
   ]
  },
  {
   "cell_type": "code",
   "execution_count": null,
   "id": "b11f8443-40fd-47f6-8ace-2089a29d9fac",
   "metadata": {},
   "outputs": [],
   "source": []
  }
 ],
 "metadata": {
  "kernelspec": {
   "display_name": "Python 3 (ipykernel)",
   "language": "python",
   "name": "python3"
  },
  "language_info": {
   "codemirror_mode": {
    "name": "ipython",
    "version": 3
   },
   "file_extension": ".py",
   "mimetype": "text/x-python",
   "name": "python",
   "nbconvert_exporter": "python",
   "pygments_lexer": "ipython3",
   "version": "3.10.8"
  }
 },
 "nbformat": 4,
 "nbformat_minor": 5
}
