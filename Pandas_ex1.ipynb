{
 "cells": [
  {
   "cell_type": "code",
   "execution_count": 3,
   "id": "5e6a2afe",
   "metadata": {},
   "outputs": [
    {
     "name": "stdout",
     "output_type": "stream",
     "text": [
      "     Name  Age  Gender\n",
      "0   Alice   25  Female\n",
      "1     Bob   30    Male\n",
      "2  Claire   27  Female\n"
     ]
    }
   ],
   "source": [
    "#3\n",
    "import pandas as pd\n",
    "\n",
    "data = {'Name': ['Alice', 'Bob', 'Claire'],\n",
    "\n",
    "        'Age': [25, 30, 27],\n",
    "\n",
    "        'Gender': ['Female', 'Male', 'Female']}\n",
    "\n",
    "df = pd.DataFrame(data)\n",
    "\n",
    "print(df)"
   ]
  },
  {
   "cell_type": "code",
   "execution_count": 8,
   "id": "d510ea05",
   "metadata": {},
   "outputs": [
    {
     "name": "stdout",
     "output_type": "stream",
     "text": [
      "0     4\n",
      "1     8\n",
      "2    15\n",
      "3    16\n",
      "4    23\n",
      "5    42\n",
      "dtype: int64\n"
     ]
    }
   ],
   "source": [
    "#1\n",
    "import pandas as pd\n",
    "list = [4,8,15,16,23,42]\n",
    " \n",
    "\n",
    "ser = pd.Series(list)\n",
    " \n",
    "print(ser)"
   ]
  },
  {
   "cell_type": "code",
   "execution_count": 9,
   "id": "9a91e152",
   "metadata": {},
   "outputs": [
    {
     "name": "stdout",
     "output_type": "stream",
     "text": [
      "0    a\n",
      "1    b\n",
      "2    c\n",
      "3    d\n",
      "4    e\n",
      "5    f\n",
      "6    g\n",
      "7    h\n",
      "8    i\n",
      "9    j\n",
      "dtype: object\n"
     ]
    }
   ],
   "source": [
    "#2\n",
    "import pandas as pd\n",
    "list1 = ['a','b','c','d','e','f','g','h','i','j']\n",
    " \n",
    "\n",
    "ser = pd.Series(list1)\n",
    " \n",
    "print(ser)"
   ]
  },
  {
   "cell_type": "code",
   "execution_count": 5,
   "id": "998dfd05",
   "metadata": {},
   "outputs": [
    {
     "name": "stdout",
     "output_type": "stream",
     "text": [
      "     Name  Age  Gender\n",
      "0   Alice   25  Female\n",
      "1     Bob   30    Male\n",
      "2  Claire   27  Female\n",
      "0    a\n",
      "1    b\n",
      "2    c\n",
      "3    d\n",
      "4    e\n",
      "5    f\n",
      "6    g\n",
      "7    h\n",
      "8    i\n",
      "9    j\n",
      "dtype: object\n"
     ]
    }
   ],
   "source": [
    "#4\n",
    "#Pandas DataFrame\n",
    "#The Pandas DataFrame is a two-dimensional data structure composed of columns and rows. \n",
    "#You can think of the DataFrame as similar to a CSV or relational database table. \n",
    "data = {'Name': ['Alice', 'Bob', 'Claire'],\n",
    "\n",
    "        'Age': [25, 30, 27],\n",
    "\n",
    "        'Gender': ['Female', 'Male', 'Female']}\n",
    "\n",
    "df1 = pd.DataFrame(data)\n",
    "\n",
    "print(df1)\n",
    "\n",
    "#Pandas Series\n",
    "#The Pandas Series data structure is a one-dimensional labelled array. \n",
    "#It is the primary building block for a DataFrame, making up its rows and columns.\n",
    "import pandas as pd\n",
    "list1 = ['a','b','c','d','e','f','g','h','i','j']\n",
    " \n",
    "\n",
    "ser1 = pd.Series(list1)\n",
    " \n",
    "print(ser1)\n"
   ]
  },
  {
   "cell_type": "code",
   "execution_count": 6,
   "id": "23ee57f5",
   "metadata": {},
   "outputs": [],
   "source": [
    "#5\n",
    "#1. pd.read_csv, pd.read_excel\n",
    "#The first function to mention is read_csv or read_excel.\n"
   ]
  },
  {
   "cell_type": "code",
   "execution_count": 7,
   "id": "7491a1b9",
   "metadata": {},
   "outputs": [],
   "source": [
    "#6 DataFrames are both value-mutable and size-mutable (Series, by contrast, is only value-mutable, not size-mutable.\n",
    "#"
   ]
  },
  {
   "cell_type": "code",
   "execution_count": 8,
   "id": "fd0bcacd",
   "metadata": {},
   "outputs": [
    {
     "name": "stdout",
     "output_type": "stream",
     "text": [
      "   courses   fees  discount\n",
      "0    Spark  22000      1000\n",
      "1  PySpark  25000      2300\n",
      "2   Hadoop  23000      1000\n"
     ]
    }
   ],
   "source": [
    "#7\n",
    "courses = pd.Series([\"Spark\",\"PySpark\",\"Hadoop\"], name='courses')\n",
    "fees = pd.Series([22000,25000,23000], name='fees')\n",
    "discount  = pd.Series([1000,2300,1000],name='discount')\n",
    "\n",
    "df=pd.concat([courses,fees,discount],axis=1)\n",
    "print(df)"
   ]
  },
  {
   "cell_type": "code",
   "execution_count": null,
   "id": "b94db0e1",
   "metadata": {},
   "outputs": [],
   "source": []
  }
 ],
 "metadata": {
  "kernelspec": {
   "display_name": "Python 3 (ipykernel)",
   "language": "python",
   "name": "python3"
  },
  "language_info": {
   "codemirror_mode": {
    "name": "ipython",
    "version": 3
   },
   "file_extension": ".py",
   "mimetype": "text/x-python",
   "name": "python",
   "nbconvert_exporter": "python",
   "pygments_lexer": "ipython3",
   "version": "3.9.13"
  }
 },
 "nbformat": 4,
 "nbformat_minor": 5
}
